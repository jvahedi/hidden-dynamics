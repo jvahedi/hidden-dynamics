{
 "cells": [
  {
   "cell_type": "code",
   "execution_count": 2,
   "metadata": {
    "ExecuteTime": {
     "end_time": "2020-09-01T03:19:30.699344Z",
     "start_time": "2020-09-01T03:19:30.006643Z"
    },
    "colab": {},
    "colab_type": "code",
    "id": "j_hYkfc0QvGs"
   },
   "outputs": [],
   "source": [
    "from __future__ import print_function\n",
    "%matplotlib inline\n",
    "import numpy as np\n",
    "import matplotlib.pyplot as plt"
   ]
  },
  {
   "cell_type": "code",
   "execution_count": 3,
   "metadata": {
    "ExecuteTime": {
     "end_time": "2020-09-01T03:19:30.707322Z",
     "start_time": "2020-09-01T03:19:30.701371Z"
    },
    "colab": {},
    "colab_type": "code",
    "id": "1yjZa7G6UUom"
   },
   "outputs": [],
   "source": [
    "variable = np.linspace(1, 10, 100)\n",
    "value = 2*variable**2 + variable + 0.7\n",
    "\n",
    "basis = [variable**2, variable, 1 + variable * 0, 1/(1+1/(variable/(3*variable+1)+2))]\n",
    "#basis = [variable**2, variable, 1 + variable * 0]\n",
    "#basis = [variable**2, variable, np.sin(variable)]\n",
    "\n",
    "#print(value)\n",
    "#print(basis)\n",
    "\n",
    "basis_value = np.array(basis)\n",
    "\n",
    "#print(basis_value)"
   ]
  },
  {
   "cell_type": "code",
   "execution_count": 4,
   "metadata": {
    "ExecuteTime": {
     "end_time": "2020-09-01T03:19:30.751208Z",
     "start_time": "2020-09-01T03:19:30.708319Z"
    },
    "colab": {
     "base_uri": "https://localhost:8080/",
     "height": 34
    },
    "colab_type": "code",
    "id": "3Vxx_IONivgW",
    "outputId": "3dcffd1f-f398-4903-bb4e-3c05f0d34fbb"
   },
   "outputs": [],
   "source": [
    "# Sequential approximation method\n",
    "\n",
    "def SA (variable, value, basis_value, c, prob_type):\n",
    "    \n",
    "    \"\"\" Use sequantial approximation to find the coefficients with noiseless data\n",
    "    Input: \n",
    "    - *variable* (ndarray) - sample points x\n",
    "    - *value* (ndarray) - data at given sample points x \n",
    "    - *basis_value* (ndarray) - basis at given sample points x\n",
    "    - *c* (ndarray) - initial guess of coefficients   \n",
    "    - *prob_type* (str) - type of probability used in choosing x\n",
    "    Output: \n",
    "    - *c* (ndarray) - coefficients at final iteration\n",
    "    \"\"\"\n",
    "    \n",
    "    success = False\n",
    "    MAX_ITERATION = 5000\n",
    "    tolerance = 0.001\n",
    "\n",
    "    # Create probability for randomly choosing variable\n",
    "    prob = []\n",
    "    s = 0\n",
    "    for j in range (len(variable)):\n",
    "        if prob_type == 'uniform':\n",
    "            prob.append(1)\n",
    "            s += 1\n",
    "        if prob_type == 'height':\n",
    "            prob.append(np.linalg.norm(basis_value[:,j], ord=2)**2)\n",
    "            s += np.linalg.norm(basis_value[:,j], ord=2)**2\n",
    "\n",
    "\n",
    "    prob = np.array(prob)/s\n",
    "\n",
    "\n",
    "    for i in range (MAX_ITERATION):\n",
    "      \n",
    "      # Randomly choose index k, then use x[k] as a training point (with replacement)\n",
    "        k = int(np.random.choice(np.linspace(0, len(variable)-1, len(variable)), p = prob))\n",
    "       \n",
    "      # Choose index k which has largest error\n",
    "#         est = np.dot(c, basis_value)\n",
    "#         k = list(value-est).index(max(abs(value-est)))\n",
    "        \n",
    "        \n",
    "      # Kick out the values which are not array\n",
    "        if not(type(basis_value[:,k]) is np.ndarray and not np.isnan(basis_value[:,k]).any()):\n",
    "            continue\n",
    "            \n",
    "            \n",
    "        c_dot_phi = np.dot(c, basis_value[:,k])\n",
    "\n",
    "        phi_norm_square = np.linalg.norm(basis_value[:,k], ord=2) **2\n",
    "\n",
    "        frac = ((value[k] - c_dot_phi) / phi_norm_square) * basis_value[:,k]\n",
    "        c = np.add(c, frac, dtype=float)\n",
    "\n",
    "\n",
    "      # Stopping criteria, compare the error between true solution and estimation\n",
    "        est = np.dot(c, basis_value)\n",
    "        if max(abs(value-est)) < tolerance:\n",
    "            success = True\n",
    "            break \n",
    "\n",
    "    if success:\n",
    "        return c\n",
    "    else:\n",
    "#        print(\"Iteration did not converge.\")\n",
    "        return c\n",
    "\n"
   ]
  },
  {
   "cell_type": "code",
   "execution_count": 5,
   "metadata": {
    "ExecuteTime": {
     "end_time": "2020-09-01T03:19:31.230313Z",
     "start_time": "2020-09-01T03:19:30.811045Z"
    },
    "colab": {
     "base_uri": "https://localhost:8080/",
     "height": 724
    },
    "colab_type": "code",
    "id": "TUdmEU95AxCN",
    "outputId": "2b171e67-c437-4167-bf61-bafbaa2320ff"
   },
   "outputs": [
    {
     "name": "stdout",
     "output_type": "stream",
     "text": [
      "coefficient is [ 2.00006933  0.99992092  1.05556018 -0.51251636]\n",
      "error is [-7.31408069e-04 -4.79721428e-04 -2.60797311e-04 -6.91530659e-05\n",
      "  9.94955617e-05  2.48544900e-04  3.80722049e-04  4.98241977e-04\n",
      "  6.02922350e-04  6.96268788e-04  7.79539071e-04  8.53792121e-04\n",
      "  9.19925808e-04  9.78706446e-04  1.03079203e-03  1.07675075e-03\n",
      "  1.11707574e-03  1.15219717e-03  1.18249190e-03  1.20829153e-03\n",
      "  1.22988900e-03  1.24754404e-03  1.26148777e-03  1.27192652e-03\n",
      "  1.27904508e-03  1.28300942e-03  1.28396904e-03  1.28205898e-03\n",
      "  1.27740147e-03  1.27010748e-03  1.26027795e-03  1.24800492e-03\n",
      "  1.23337245e-03  1.21645752e-03  1.19733072e-03  1.17605691e-03\n",
      "  1.15269581e-03  1.12730246e-03  1.09992771e-03  1.07061857e-03\n",
      "  1.03941862e-03  1.00636827e-03  9.71505049e-04  9.34863882e-04\n",
      "  8.96477291e-04  8.56375605e-04  8.14587144e-04  7.71138376e-04\n",
      "  7.26054071e-04  6.79357435e-04  6.31070230e-04  5.81212883e-04\n",
      "  5.29804591e-04  4.76863408e-04  4.22406333e-04  3.66449381e-04\n",
      "  3.09007659e-04  2.50095424e-04  1.89726145e-04  1.27912555e-04\n",
      "  6.46667042e-05  1.42108547e-14 -6.60767470e-05 -1.33553286e-04\n",
      " -2.02419889e-04 -2.72667321e-04 -3.44286804e-04 -4.17269994e-04\n",
      " -4.91608952e-04 -5.67296119e-04 -6.44324297e-04 -7.22686624e-04\n",
      " -8.02376556e-04 -8.83387849e-04 -9.65714543e-04 -1.04935094e-03\n",
      " -1.13429161e-03 -1.22053134e-03 -1.30806515e-03 -1.39688827e-03\n",
      " -1.48699616e-03 -1.57838443e-03 -1.67104890e-03 -1.76498555e-03\n",
      " -1.86019052e-03 -1.95666013e-03 -2.05439081e-03 -2.15337915e-03\n",
      " -2.25362189e-03 -2.35511586e-03 -2.45785804e-03 -2.56184552e-03\n",
      " -2.66707548e-03 -2.77354524e-03 -2.88125218e-03 -2.99019381e-03\n",
      " -3.10036770e-03 -3.21177154e-03 -3.32440307e-03 -3.43826014e-03]\n",
      "max error 0.003438260138551641 min error 1.4210854715202004e-14\n",
      "error norm is 0.013751131047832208\n"
     ]
    }
   ],
   "source": [
    "# Initial guess of coefficients\n",
    "c_init = np.random.uniform(0, 2, size=len(basis_value))\n",
    "\n",
    "# Coefficients from SA\n",
    "c = SA(variable, value, basis_value, c_init, 'uniform')\n",
    "\n",
    "# Estimations for each value\n",
    "est = np.dot(c, basis_value)\n",
    "print(\"coefficient is\", c)\n",
    "\n",
    "#print(\"estimation is\", est)\n",
    "#print(\"value is\", value)\n",
    "print(\"error is\", value-est)\n",
    "print(\"max error\", max(abs(value-est)), \"min error\", min(abs(value-est)))\n",
    "print(\"error norm is\", np.linalg.norm(value-est, ord=2))\n"
   ]
  },
  {
   "cell_type": "code",
   "execution_count": 12,
   "metadata": {
    "ExecuteTime": {
     "end_time": "2020-09-01T03:29:13.706738Z",
     "start_time": "2020-09-01T03:29:13.701752Z"
    }
   },
   "outputs": [],
   "source": [
    "Err = []\n",
    "max_error = []\n",
    "\n",
    "num = 10000\n",
    "bin_num = 5\n",
    "\n",
    "variable1 = np.linspace(91, 100, 100)\n",
    "#value = 2*variable**2 + variable + 0.7\n",
    "\n",
    "#basis = [variable**2, variable, 1 + variable * 0, 1/(1+1/(variable/(3*variable+1)+2))]"
   ]
  },
  {
   "cell_type": "code",
   "execution_count": 13,
   "metadata": {
    "ExecuteTime": {
     "end_time": "2020-09-01T05:52:51.384018Z",
     "start_time": "2020-09-01T03:29:15.131850Z"
    }
   },
   "outputs": [],
   "source": [
    "error1 = []\n",
    "for i in range (num):\n",
    "    c_init = np.random.uniform(0, 2, size=len(basis_value))\n",
    "    c1 = SA(variable1, value, basis_value, c_init, 'uniform')\n",
    "    est1 = np.dot(c1, basis_value)\n",
    "    error1.append(np.linalg.norm(value - est1, ord=2))\n",
    "    max_error.append(max(abs(value-est1)))\n",
    "\n",
    "Err.append(['91-100 uniform x',error1])\n",
    "\n",
    "#print(\"estimate is\", estimate)\n",
    "#print(\"value is\", value)"
   ]
  },
  {
   "cell_type": "code",
   "execution_count": 14,
   "metadata": {
    "ExecuteTime": {
     "end_time": "2020-09-01T07:12:59.246023Z",
     "start_time": "2020-09-01T05:52:51.403965Z"
    }
   },
   "outputs": [],
   "source": [
    "error2 = []\n",
    "for i in range (num):\n",
    "    c_init = np.random.uniform(0, 2, size=len(basis_value))\n",
    "    c2 = SA(variable1, value, basis_value, c_init, 'height')\n",
    "    est2 = np.dot(c2, basis_value)\n",
    "    error2.append(np.linalg.norm(value - est2, ord=2))\n",
    "    max_error.append(max(abs(value-est2)))\n",
    "\n",
    "Err.append(['91-100 height y',error2])"
   ]
  },
  {
   "cell_type": "code",
   "execution_count": 15,
   "metadata": {
    "ExecuteTime": {
     "end_time": "2020-09-01T08:23:04.597689Z",
     "start_time": "2020-09-01T07:12:59.256761Z"
    }
   },
   "outputs": [],
   "source": [
    "variable2 = np.linspace(1, 10, 100)\n",
    "\n",
    "error3 = []\n",
    "for i in range (num):\n",
    "    c_init = np.random.uniform(0, 2, size=len(basis_value))\n",
    "    c3 = SA(variable2, value, basis_value, c_init, 'uniform')\n",
    "    est3 = np.dot(c3, basis_value)\n",
    "    error3.append(np.linalg.norm(value - est3, ord=2))\n",
    "    max_error.append(max(abs(value-est3)))\n",
    "\n",
    "Err.append(['1-10 uniform x',error3])"
   ]
  },
  {
   "cell_type": "code",
   "execution_count": 16,
   "metadata": {
    "ExecuteTime": {
     "end_time": "2020-09-01T09:20:35.003069Z",
     "start_time": "2020-09-01T08:23:04.603337Z"
    }
   },
   "outputs": [],
   "source": [
    "error4 = []\n",
    "for i in range (num):\n",
    "    c_init = np.random.uniform(0, 2, size=len(basis_value))\n",
    "    c4 = SA(variable2, value, basis_value, c_init, 'height')\n",
    "    est4 = np.dot(c4, basis_value)\n",
    "    error4.append(np.linalg.norm(value - est4, ord=2))\n",
    "    max_error.append(max(abs(value-est4)))\n",
    "\n",
    "Err.append(['1-10 height y',error4])\n",
    "\n",
    "\n",
    "# print(\"max error is\", max(max_error))\n",
    "#print(\"max error is\", max_error)"
   ]
  },
  {
   "cell_type": "code",
   "execution_count": 25,
   "metadata": {
    "ExecuteTime": {
     "end_time": "2020-09-01T17:38:11.126695Z",
     "start_time": "2020-09-01T17:38:07.182952Z"
    },
    "colab": {},
    "colab_type": "code",
    "id": "XZ1pJHZtPb1Y"
   },
   "outputs": [
    {
     "data": {
      "image/png": "[encoded data removed]",
      "text/plain": [
       "<Figure size 432x288 with 1 Axes>"
      ]
     },
     "metadata": {
      "needs_background": "light"
     },
     "output_type": "display_data"
    },
    {
     "data": {
      "image/png": "[encoded data removed]",
      "text/plain": [
       "<Figure size 432x288 with 1 Axes>"
      ]
     },
     "metadata": {
      "needs_background": "light"
     },
     "output_type": "display_data"
    },
    {
     "data": {
      "image/png": "[encoded data removed]",
      "text/plain": [
       "<Figure size 432x288 with 1 Axes>"
      ]
     },
     "metadata": {
      "needs_background": "light"
     },
     "output_type": "display_data"
    },
    {
     "data": {
      "image/png": "[encoded data removed]",
      "text/plain": [
       "<Figure size 432x288 with 1 Axes>"
      ]
     },
     "metadata": {
      "needs_background": "light"
     },
     "output_type": "display_data"
    }
   ],
   "source": [
    "#print(\"Err is\", Err)\n",
    "for i in range (len(Err)):\n",
    "    plt.hist(Err[i][1], bins = np.sqrt(3.6*num).astype(int), density = True)\n",
    "    plt.title(Err[i][0])\n",
    "    plt.show()"
   ]
  },
  {
   "cell_type": "code",
   "execution_count": null,
   "metadata": {},
   "outputs": [],
   "source": []
  }
 ],
 "metadata": {
  "colab": {
   "collapsed_sections": [],
   "name": "Matrix-Free Method.ipynb",
   "provenance": []
  },
  "kernelspec": {
   "display_name": "Python 3",
   "language": "python",
   "name": "python3"
  },
  "language_info": {
   "codemirror_mode": {
    "name": "ipython",
    "version": 3
   },
   "file_extension": ".py",
   "mimetype": "text/x-python",
   "name": "python",
   "nbconvert_exporter": "python",
   "pygments_lexer": "ipython3",
   "version": "3.8.5"
  }
 },
 "nbformat": 4,
 "nbformat_minor": 1
}
